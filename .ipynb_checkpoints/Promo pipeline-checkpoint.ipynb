{
 "cells": [
  {
   "cell_type": "code",
   "execution_count": 3,
   "id": "c6421e59",
   "metadata": {},
   "outputs": [
    {
     "ename": "TypeError",
     "evalue": "sequence item 15: expected str instance, int found",
     "output_type": "error",
     "traceback": [
      "\u001b[1;31m---------------------------------------------------------------------------\u001b[0m",
      "\u001b[1;31mTypeError\u001b[0m                                 Traceback (most recent call last)",
      "Cell \u001b[1;32mIn[3], line 62\u001b[0m\n\u001b[0;32m     59\u001b[0m     \u001b[38;5;28;01mreturn\u001b[39;00m df\n\u001b[0;32m     61\u001b[0m \u001b[38;5;28;01mif\u001b[39;00m \u001b[38;5;18m__name__\u001b[39m \u001b[38;5;241m==\u001b[39m \u001b[38;5;124m\"\u001b[39m\u001b[38;5;124m__main__\u001b[39m\u001b[38;5;124m\"\u001b[39m:\n\u001b[1;32m---> 62\u001b[0m     promos_df \u001b[38;5;241m=\u001b[39m build_promos_dataframe(\u001b[38;5;124m\"\u001b[39m\u001b[38;5;124mPromos\u001b[39m\u001b[38;5;124m\"\u001b[39m)\n\u001b[0;32m     63\u001b[0m     promos_df\u001b[38;5;241m.\u001b[39mto_csv(\u001b[38;5;124m\"\u001b[39m\u001b[38;5;124mPromos.csv\u001b[39m\u001b[38;5;124m\"\u001b[39m, index\u001b[38;5;241m=\u001b[39m\u001b[38;5;28;01mFalse\u001b[39;00m)\n",
      "Cell \u001b[1;32mIn[3], line 48\u001b[0m, in \u001b[0;36mbuild_promos_dataframe\u001b[1;34m(folder_path)\u001b[0m\n\u001b[0;32m     45\u001b[0m     \u001b[38;5;28;01mif\u001b[39;00m count \u001b[38;5;241m>\u001b[39m \u001b[38;5;241m0\u001b[39m:\n\u001b[0;32m     46\u001b[0m         parts\u001b[38;5;241m.\u001b[39mextend([val] \u001b[38;5;241m*\u001b[39m count)\n\u001b[1;32m---> 48\u001b[0m slot1_str \u001b[38;5;241m=\u001b[39m \u001b[38;5;124m\"\u001b[39m\u001b[38;5;124m,\u001b[39m\u001b[38;5;124m\"\u001b[39m\u001b[38;5;241m.\u001b[39mjoin(parts)\n\u001b[0;32m     49\u001b[0m slot2_str \u001b[38;5;241m=\u001b[39m \u001b[38;5;124mf\u001b[39m\u001b[38;5;124m\"\u001b[39m\u001b[38;5;124mAddPart:\u001b[39m\u001b[38;5;132;01m{\u001b[39;00mslot1_str\u001b[38;5;132;01m}\u001b[39;00m\u001b[38;5;124m\"\u001b[39m\n\u001b[0;32m     51\u001b[0m df\u001b[38;5;241m.\u001b[39mloc[\u001b[38;5;28mlen\u001b[39m(df)] \u001b[38;5;241m=\u001b[39m {\n\u001b[0;32m     52\u001b[0m     \u001b[38;5;124m\"\u001b[39m\u001b[38;5;124mID\u001b[39m\u001b[38;5;124m\"\u001b[39m: file_id,\n\u001b[0;32m     53\u001b[0m     \u001b[38;5;124m\"\u001b[39m\u001b[38;5;124mDescription\u001b[39m\u001b[38;5;124m\"\u001b[39m: product_desc,\n\u001b[1;32m   (...)\u001b[0m\n\u001b[0;32m     56\u001b[0m     \u001b[38;5;124m\"\u001b[39m\u001b[38;5;124mslot2\u001b[39m\u001b[38;5;124m\"\u001b[39m: slot2_str\n\u001b[0;32m     57\u001b[0m }\n",
      "\u001b[1;31mTypeError\u001b[0m: sequence item 15: expected str instance, int found"
     ]
    }
   ],
   "source": [
    "import os\n",
    "import re\n",
    "import glob\n",
    "import pandas as pd\n",
    "\n",
    "# 0. Create an empty DataFrame with columns \"ID\", \"slot1\", and \"Description\"\n",
    "df = pd.DataFrame(columns=[\"ID\", \"Description\", \"Notes\", \"slot1\", \"slot2\"])\n",
    "\n",
    "# Define the folder containing Excel files\n",
    "folder_path = \"Promos\"  # Update this to your actual folder path\n",
    "excel_files = glob.glob(os.path.join(folder_path, \"*.xlsx\"))  # Adjust pattern if needed (e.g., *.xls)\n",
    "\n",
    "# Regular expression pattern to extract the ID (format: 3 digits, a dash, 3 digits)\n",
    "id_pattern = re.compile(r'(\\d{3}-\\d{3})')\n",
    "\n",
    "for file in excel_files:\n",
    "    # Extract the ID from the filename\n",
    "    filename = os.path.basename(file)\n",
    "    id_match = id_pattern.search(filename)\n",
    "    if not id_match:\n",
    "        # Skip files that don't match the ID pattern\n",
    "        continue\n",
    "    file_id = id_match.group(1)\n",
    "\n",
    "    # 5. Skip this file if the ID is already in the DataFrame\n",
    "    if file_id in df[\"ID\"].values:\n",
    "        continue\n",
    "\n",
    "    # Read the Excel file without assuming headers\n",
    "    try:\n",
    "        data = pd.read_excel(file, header=None)\n",
    "    except Exception as e:\n",
    "        print(f\"Error reading {file}: {e}\")\n",
    "        continue\n",
    "\n",
    "    # Find the row where column A equals \"Product Name\" (case-insensitive, stripping spaces)\n",
    "    product_name_rows = data[data[0].astype(str).str.strip().str.lower() == \"product name\"].index\n",
    "    if not product_name_rows.empty:\n",
    "        # Get the value from column B (index 1)\n",
    "        product_desc = data.iloc[product_name_rows[0], 1]\n",
    "    else:\n",
    "        product_desc = \"\"\n",
    "\n",
    "    # 3. Find the row where column A equals \"material\" (case-insensitive, stripping spaces)\n",
    "    material_rows = data[data[0].astype(str).str.strip().str.lower() == \"material\"].index\n",
    "    if material_rows.empty:\n",
    "        # If no \"material\" row is found, skip this file\n",
    "        continue\n",
    "    start_row = material_rows[0] + 1\n",
    "\n",
    "    # 2. Initialize an empty string variable for accumulating values from column A\n",
    "    slot1_str = \"\"\n",
    "\n",
    "    # 4. Iterate over the rows starting at start_row\n",
    "    for idx in range(start_row, len(data)):\n",
    "        # Get the value from column A (index 0) and the corresponding n from column C (index 2)\n",
    "        cell_value = data.iloc[idx, 0]\n",
    "        try:\n",
    "            n = int(data.iloc[idx, 2])\n",
    "        except (ValueError, TypeError):\n",
    "            # If conversion to integer fails, skip this row\n",
    "            continue\n",
    "\n",
    "        # Only process if n is positive\n",
    "        if n > 0:\n",
    "            # Repeat the value n times, separated by commas\n",
    "            repeated_value = \",\".join([str(cell_value)] * n)\n",
    "            # Append to slot1_str, adding a comma if slot1_str is not empty\n",
    "            if slot1_str:\n",
    "                slot1_str += \",\" + repeated_value\n",
    "            else:\n",
    "                slot1_str = repeated_value\n",
    "\n",
    "    # Add the result to the DataFrame using .loc\n",
    "    new_row = {\"ID\": file_id, \"slot2\": \"AddPart:\"+slot1_str, \"Description\": product_desc,\"slot1\":\"MISC:1:1:P\"}\n",
    "    df.loc[len(df)] = new_row\n",
    "\n",
    "# Optional: display or save the resulting DataFrame\n",
    "df.to_csv('Promos.csv',index=False)"
   ]
  },
  {
   "cell_type": "code",
   "execution_count": 11,
   "id": "6f7da12b",
   "metadata": {},
   "outputs": [
    {
     "data": {
      "text/plain": [
       "'Promos\\\\Promotion Creation 999-342 Ti2E Plan Apochromat Objective Promo Package - Special.xlsx'"
      ]
     },
     "execution_count": 11,
     "metadata": {},
     "output_type": "execute_result"
    }
   ],
   "source": [
    "file"
   ]
  }
 ],
 "metadata": {
  "kernelspec": {
   "display_name": "Python 3 (ipykernel)",
   "language": "python",
   "name": "python3"
  },
  "language_info": {
   "codemirror_mode": {
    "name": "ipython",
    "version": 3
   },
   "file_extension": ".py",
   "mimetype": "text/x-python",
   "name": "python",
   "nbconvert_exporter": "python",
   "pygments_lexer": "ipython3",
   "version": "3.11.5"
  }
 },
 "nbformat": 4,
 "nbformat_minor": 5
}
